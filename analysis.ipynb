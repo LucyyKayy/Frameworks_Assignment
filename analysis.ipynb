{
 "cells": [
  {
   "cell_type": "code",
   "execution_count": null,
   "id": "989b8ad4",
   "metadata": {},
   "outputs": [],
   "source": [
    "import pandas as pd\n",
    "import matplotlib.pyplot as plt\n",
    "import seaborn as sns\n",
    "\n",
    "# Try importing wordcloud\n",
    "try:\n",
    "    from wordcloud import WordCloud\n",
    "    WORDCLOUD_AVAILABLE = True\n",
    "except ImportError:\n",
    "    WORDCLOUD_AVAILABLE = False\n",
    "    print(\"⚠️ WordCloud not installed. Skipping word cloud visualization.\")\n",
    "\n",
    "# Load dataset\n",
    "df = pd.read_csv(\"metadata_sample.csv\")\n",
    "\n",
    "# Preview data\n",
    "print(\"Dataset shape:\", df.shape)\n",
    "display(df.head())\n",
    "\n",
    "# Handle missing values\n",
    "df = df.dropna(subset=[\"title\", \"publish_time\"])\n",
    "df[\"year\"] = pd.to_datetime(df[\"publish_time\"], errors=\"coerce\").dt.year\n",
    "\n",
    "# --- Analysis ---\n",
    "# 1. Publications per year\n",
    "year_counts = df[\"year\"].value_counts().sort_index()\n",
    "plt.figure(figsize=(8,5))\n",
    "plt.bar(year_counts.index, year_counts.values)\n",
    "plt.title(\"Publications by Year\")\n",
    "plt.xlabel(\"Year\")\n",
    "plt.ylabel(\"Number of Papers\")\n",
    "plt.show()\n",
    "\n",
    "# 2. Top Journals\n",
    "top_journals = df[\"journal\"].value_counts().head(10)\n",
    "plt.figure(figsize=(8,5))\n",
    "sns.barplot(y=top_journals.index, x=top_journals.values)\n",
    "plt.title(\"Top Journals\")\n",
    "plt.xlabel(\"Number of Papers\")\n",
    "plt.show()\n",
    "\n",
    "# 3. Word Cloud (optional)\n",
    "if WORDCLOUD_AVAILABLE:\n",
    "    text = \" \".join(df[\"title\"].dropna())\n",
    "    wordcloud = WordCloud(width=800, height=400, background_color=\"white\").generate(text)\n",
    "    plt.figure(figsize=(10,6))\n",
    "    plt.imshow(wordcloud, interpolation=\"bilinear\")\n",
    "    plt.axis(\"off\")\n",
    "    plt.title(\"Most Common Words in Titles\")\n",
    "    plt.show()\n",
    "else:\n",
    "    print(\"Skipping word cloud plot because WordCloud is not installed.\")\n"
   ]
  }
 ],
 "metadata": {
  "kernelspec": {
   "display_name": "Python 3",
   "language": "python",
   "name": "python3"
  },
  "language_info": {
   "codemirror_mode": {
    "name": "ipython",
    "version": 3
   },
   "file_extension": ".py",
   "mimetype": "text/x-python",
   "name": "python",
   "nbconvert_exporter": "python",
   "pygments_lexer": "ipython3",
   "version": "3.13.7"
  }
 },
 "nbformat": 4,
 "nbformat_minor": 5
}
